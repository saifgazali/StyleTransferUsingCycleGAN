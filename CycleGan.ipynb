{
  "nbformat": 4,
  "nbformat_minor": 0,
  "metadata": {
    "colab": {
      "name": "CycleGan.ipynb",
      "provenance": [],
      "collapsed_sections": []
    },
    "kernelspec": {
      "display_name": "Python 3",
      "name": "python3"
    },
    "language_info": {
      "name": "python"
    }
  },
  "cells": [
    {
      "cell_type": "code",
      "metadata": {
        "colab": {
          "background_save": true,
          "base_uri": "https://localhost:8080/"
        },
        "id": "ANtxcww3kqaE",
        "outputId": "c1c65cee-7eeb-40a2-f0bc-1e0fb6f339ae"
      },
      "source": [
        "!pip install git+https://www.github.com/keras-team/keras-contrib.git\n"
      ],
      "execution_count": null,
      "outputs": [
        {
          "name": "stdout",
          "output_type": "stream",
          "text": [
            "Collecting git+https://www.github.com/keras-team/keras-contrib.git\n",
            "  Cloning https://www.github.com/keras-team/keras-contrib.git to /tmp/pip-req-build-kovppdpo\n",
            "  Running command git clone -q https://www.github.com/keras-team/keras-contrib.git /tmp/pip-req-build-kovppdpo\n",
            "Requirement already satisfied: keras in /usr/local/lib/python3.7/dist-packages (from keras-contrib==2.0.8) (2.4.3)\n",
            "Requirement already satisfied: pyyaml in /usr/local/lib/python3.7/dist-packages (from keras->keras-contrib==2.0.8) (3.13)\n",
            "Requirement already satisfied: numpy>=1.9.1 in /usr/local/lib/python3.7/dist-packages (from keras->keras-contrib==2.0.8) (1.19.5)\n",
            "Requirement already satisfied: h5py in /usr/local/lib/python3.7/dist-packages (from keras->keras-contrib==2.0.8) (3.1.0)\n",
            "Requirement already satisfied: scipy>=0.14 in /usr/local/lib/python3.7/dist-packages (from keras->keras-contrib==2.0.8) (1.4.1)\n",
            "Requirement already satisfied: cached-property in /usr/local/lib/python3.7/dist-packages (from h5py->keras->keras-contrib==2.0.8) (1.5.2)\n",
            "Building wheels for collected packages: keras-contrib\n",
            "  Building wheel for keras-contrib (setup.py) ... \u001b[?25l\u001b[?25hdone\n",
            "  Created wheel for keras-contrib: filename=keras_contrib-2.0.8-py3-none-any.whl size=101076 sha256=25917aaf2a6a85ed104c0cd0a8eac23e29ac43bca5e2ca79a8024a07914c3a2f\n",
            "  Stored in directory: /tmp/pip-ephem-wheel-cache-kr7cbtj0/wheels/bb/1f/f2/b57495012683b6b20bbae94a3915ec79753111452d79886abc\n",
            "Successfully built keras-contrib\n",
            "Installing collected packages: keras-contrib\n",
            "Successfully installed keras-contrib-2.0.8\n"
          ]
        }
      ]
    },
    {
      "cell_type": "code",
      "metadata": {
        "colab": {
          "base_uri": "https://localhost:8080/"
        },
        "id": "eTKnFqHqrWaB",
        "outputId": "c9a5574f-9e2c-4ec9-b86a-788e548c7460"
      },
      "source": [
        "from google.colab import drive\n",
        "drive.mount('/content/drive/')"
      ],
      "execution_count": null,
      "outputs": [
        {
          "name": "stdout",
          "output_type": "stream",
          "text": [
            "Mounted at /content/drive/\n"
          ]
        }
      ]
    },
    {
      "cell_type": "code",
      "metadata": {
        "colab": {
          "background_save": true
        },
        "id": "rxzjlw8wva5p"
      },
      "source": [
        "from keras_contrib.layers.normalization.instancenormalization import InstanceNormalization\n",
        "from keras.layers import Conv2D,LeakyReLU,Conv2DTranspose,Activation,Concatenate\n",
        "from keras.models import Model,Input \n",
        "from keras.optimizers import Adam\n",
        "from keras.initializers import RandomNormal\n",
        "from numpy.random import randint\n",
        "from numpy import ones,zeros"
      ],
      "execution_count": null,
      "outputs": []
    },
    {
      "cell_type": "code",
      "metadata": {
        "id": "PXak_WnYQgzs"
      },
      "source": [
        ""
      ],
      "execution_count": null,
      "outputs": []
    },
    {
      "cell_type": "code",
      "metadata": {
        "id": "RbviTLd_Qg2d"
      },
      "source": [
        ""
      ],
      "execution_count": null,
      "outputs": []
    },
    {
      "cell_type": "code",
      "metadata": {
        "id": "frynKCl0Qg5y"
      },
      "source": [
        ""
      ],
      "execution_count": null,
      "outputs": []
    },
    {
      "cell_type": "code",
      "metadata": {
        "colab": {
          "background_save": true
        },
        "id": "EChZ0yneQYNL"
      },
      "source": [
        "# example of training a cyclegan on the horse2zebra dataset\n",
        "from random import random\n",
        "from numpy import load\n",
        "from numpy import zeros\n",
        "from numpy import ones\n",
        "from numpy import asarray\n",
        "from numpy.random import randint\n",
        "from keras.optimizers import Adam\n",
        "from keras.initializers import RandomNormal\n",
        "from keras.models import Model\n",
        "from keras.models import Input\n",
        "from keras.layers import Conv2D\n",
        "from keras.layers import Conv2DTranspose\n",
        "from keras.layers import LeakyReLU\n",
        "from keras.layers import Activation\n",
        "from keras.layers import Concatenate\n",
        "from keras_contrib.layers.normalization.instancenormalization import InstanceNormalization\n"
      ],
      "execution_count": null,
      "outputs": []
    },
    {
      "cell_type": "code",
      "metadata": {
        "id": "qJvOShROva8R"
      },
      "source": [
        "# define discriminator model\n",
        "# Structure is Convolution - InstanceNormalization - LeakyReLU\n",
        "# C64-C128-C256-C512 \n",
        "\n",
        "def define_discriminator(image_shape):\n",
        "\n",
        "  init = RandomNormal(stddev=0.02)\n",
        "  inp = Input(image_shape)\n",
        "\n",
        "  #C64\n",
        "  l1 = Conv2D(64,(4,4),strides=(2,2),padding='same',kernel_initializer=init)(inp)\n",
        "  l1 = LeakyReLU(0.2)(l1)\n",
        "\n",
        "  #C128\n",
        "  l2 = Conv2D(128,(4,4),strides=(2,2),padding='same',kernel_initializer=init)(l1)\n",
        "  l2 = InstanceNormalization(axis=-1)(l2)\n",
        "  l2 = LeakyReLU(0.2)(l2)\n",
        "\n",
        "  #C256\n",
        "  l3 = Conv2D(256,(4,4),strides=(2,2),padding='same',kernel_initializer=init)(l2)\n",
        "  l3 = InstanceNormalization(axis=-1)(l3)\n",
        "  l3 = LeakyReLU(0.2)(l3)\n",
        "\n",
        "  #C512\n",
        "  l4 = Conv2D(256,(4,4),strides=(2,2),padding='same',kernel_initializer=init)(l3)\n",
        "  l4 = InstanceNormalization(axis=-1)(l4)\n",
        "  l4 = LeakyReLU(0.2)(l4)\n",
        "\n",
        "  #C512\n",
        "  l5 = Conv2D(256,(4,4),padding='same',kernel_initializer=init)(l4)\n",
        "  l5 = InstanceNormalization(axis=-1)(l5)\n",
        "  l5 = LeakyReLU(0.2)(l5)\n",
        "\n",
        "  #patch output \n",
        "  l6 = Conv2D(1,(4,4),padding='same',kernel_initializer=init)(l5)\n",
        "\n",
        "  #define model \n",
        "  model = Model(inp,l6)  \n",
        "\n",
        "  #compile model\n",
        "  model.compile(loss='mse',optimizer=Adam(lr=0.0002,beta_1=0.5),loss_weights=[0.5])\n",
        "  return model"
      ],
      "execution_count": null,
      "outputs": []
    },
    {
      "cell_type": "code",
      "metadata": {
        "colab": {
          "base_uri": "https://localhost:8080/"
        },
        "id": "tPQM-VIdva_V",
        "outputId": "6b3ea4b1-988f-419d-d27b-6de7bc194328"
      },
      "source": [
        "image_shape = (256,256,3)\n",
        "model = define_discriminator(image_shape)\n",
        "model.summary()"
      ],
      "execution_count": null,
      "outputs": [
        {
          "name": "stdout",
          "output_type": "stream",
          "text": [
            "Model: \"model\"\n",
            "_________________________________________________________________\n",
            "Layer (type)                 Output Shape              Param #   \n",
            "=================================================================\n",
            "input_1 (InputLayer)         [(None, 256, 256, 3)]     0         \n",
            "_________________________________________________________________\n",
            "conv2d (Conv2D)              (None, 128, 128, 64)      3136      \n",
            "_________________________________________________________________\n",
            "leaky_re_lu (LeakyReLU)      (None, 128, 128, 64)      0         \n",
            "_________________________________________________________________\n",
            "conv2d_1 (Conv2D)            (None, 64, 64, 128)       131200    \n",
            "_________________________________________________________________\n",
            "instance_normalization (Inst (None, 64, 64, 128)       256       \n",
            "_________________________________________________________________\n",
            "leaky_re_lu_1 (LeakyReLU)    (None, 64, 64, 128)       0         \n",
            "_________________________________________________________________\n",
            "conv2d_2 (Conv2D)            (None, 32, 32, 256)       524544    \n",
            "_________________________________________________________________\n",
            "instance_normalization_1 (In (None, 32, 32, 256)       512       \n",
            "_________________________________________________________________\n",
            "leaky_re_lu_2 (LeakyReLU)    (None, 32, 32, 256)       0         \n",
            "_________________________________________________________________\n",
            "conv2d_3 (Conv2D)            (None, 16, 16, 256)       1048832   \n",
            "_________________________________________________________________\n",
            "instance_normalization_2 (In (None, 16, 16, 256)       512       \n",
            "_________________________________________________________________\n",
            "leaky_re_lu_3 (LeakyReLU)    (None, 16, 16, 256)       0         \n",
            "_________________________________________________________________\n",
            "conv2d_4 (Conv2D)            (None, 16, 16, 256)       1048832   \n",
            "_________________________________________________________________\n",
            "instance_normalization_3 (In (None, 16, 16, 256)       512       \n",
            "_________________________________________________________________\n",
            "leaky_re_lu_4 (LeakyReLU)    (None, 16, 16, 256)       0         \n",
            "_________________________________________________________________\n",
            "conv2d_5 (Conv2D)            (None, 16, 16, 1)         4097      \n",
            "=================================================================\n",
            "Total params: 2,762,433\n",
            "Trainable params: 2,762,433\n",
            "Non-trainable params: 0\n",
            "_________________________________________________________________\n"
          ]
        },
        {
          "name": "stderr",
          "output_type": "stream",
          "text": [
            "/usr/local/lib/python3.7/dist-packages/tensorflow/python/keras/optimizer_v2/optimizer_v2.py:375: UserWarning: The `lr` argument is deprecated, use `learning_rate` instead.\n",
            "  \"The `lr` argument is deprecated, use `learning_rate` instead.\")\n"
          ]
        }
      ]
    },
    {
      "cell_type": "code",
      "metadata": {
        "id": "w0crEXD42Xv_"
      },
      "source": [
        "# define resnet block \n",
        "def define_resnet_block(n_filters,inp_layer):\n",
        "  init = RandomNormal(stddev=0.02)\n",
        "\n",
        "  #first convolution layer\n",
        "  l1 = Conv2D(n_filters,(3,3),padding='same',kernel_initializer=init)(inp_layer)\n",
        "  l1 = InstanceNormalization(axis=-1)(l1)\n",
        "  l1 = Activation('relu')(l1)\n",
        "\n",
        "  #second convolution layer\n",
        "  l2 = Conv2D(n_filters,(3,3),padding='same',kernel_initializer=init)(l1)\n",
        "  l2 = InstanceNormalization(axis=-1)(l2)\n",
        "\n",
        "  #Concatenate merge channel wise\n",
        "  conc = Concatenate()([l2,inp_layer])\n",
        "\n",
        "  return conc"
      ],
      "execution_count": null,
      "outputs": []
    },
    {
      "cell_type": "code",
      "metadata": {
        "id": "ld8EOzM3ztLh"
      },
      "source": [
        "# define the generator model\n",
        "# consists of downsampling blocks to encode the image\n",
        "# resnet blocks to transform the image\n",
        "# upsampling blocks to generate the output image\n",
        "def define_generator(image_shape=(256,256,3),n_resnet=9):\n",
        "  init = RandomNormal(stddev=0.02)\n",
        "  input_layer = Input(image_shape)\n",
        "\n",
        "  #C71-s\n",
        "  l1 = Conv2D(64,(7,7),padding='same',kernel_initializer=init)(input_layer)\n",
        "  l1 = InstanceNormalization(axis=-1)(l1)\n",
        "  l1 = Activation('relu')(l1)\n",
        "\n",
        "  #d128\n",
        "  d1 = Conv2D(128,(3,3),strides=(2,2),padding='same',kernel_initializer=init)(l1)\n",
        "  d1 = InstanceNormalization(axis=-1)(d1)\n",
        "  d1 = Activation('relu')(d1)\n",
        "\n",
        "  #d256\n",
        "  d2 = Conv2D(256,(3,3),strides=(2,2),padding='same',kernel_initializer=init)(d1)\n",
        "  d2 = InstanceNormalization(axis=-1)(d2)\n",
        "  d2 = Activation('relu')(d2)\n",
        "\n",
        "  #Resnet blocks\n",
        "  for _ in range(n_resnet):\n",
        "    d2 = define_resnet_block(256,d2)\n",
        "\n",
        "  #u128\n",
        "  u1 = Conv2DTranspose(128,(3,3),strides=(2,2),padding='same',kernel_initializer=init)(d2)\n",
        "  u1 = InstanceNormalization(axis=-1)(u1)\n",
        "  u1 = Activation('relu')(u1)\n",
        "\n",
        "  #u256\n",
        "  u2 = Conv2DTranspose(256,(3,3),strides=(2,2),padding='same',kernel_initializer=init)(u1)\n",
        "  u2 = InstanceNormalization(axis=-1)(u2)\n",
        "  u2 = Activation('relu')(u2)\n",
        "\n",
        "  #C7s1-3\n",
        "  g = Conv2D(3,(7,7),padding='same',kernel_initializer=init)(u2)\n",
        "  g = InstanceNormalization(axis=-1)(g)\n",
        "  g = Activation('tanh')(g)\n",
        "\n",
        "  #define model\n",
        "  model = Model(input_layer,g)\n",
        "\n",
        "  return model\n",
        "\n"
      ],
      "execution_count": null,
      "outputs": []
    },
    {
      "cell_type": "code",
      "metadata": {
        "colab": {
          "base_uri": "https://localhost:8080/"
        },
        "id": "xkjjf4MMztN3",
        "outputId": "e5cd519f-c039-42c4-eca5-5e83344389f6"
      },
      "source": [
        "model = define_generator()\n",
        "model.summary()"
      ],
      "execution_count": null,
      "outputs": [
        {
          "name": "stdout",
          "output_type": "stream",
          "text": [
            "Model: \"model_1\"\n",
            "__________________________________________________________________________________________________\n",
            "Layer (type)                    Output Shape         Param #     Connected to                     \n",
            "==================================================================================================\n",
            "input_2 (InputLayer)            [(None, 256, 256, 3) 0                                            \n",
            "__________________________________________________________________________________________________\n",
            "conv2d_6 (Conv2D)               (None, 256, 256, 64) 9472        input_2[0][0]                    \n",
            "__________________________________________________________________________________________________\n",
            "instance_normalization_4 (Insta (None, 256, 256, 64) 128         conv2d_6[0][0]                   \n",
            "__________________________________________________________________________________________________\n",
            "activation (Activation)         (None, 256, 256, 64) 0           instance_normalization_4[0][0]   \n",
            "__________________________________________________________________________________________________\n",
            "conv2d_7 (Conv2D)               (None, 128, 128, 128 73856       activation[0][0]                 \n",
            "__________________________________________________________________________________________________\n",
            "instance_normalization_5 (Insta (None, 128, 128, 128 256         conv2d_7[0][0]                   \n",
            "__________________________________________________________________________________________________\n",
            "activation_1 (Activation)       (None, 128, 128, 128 0           instance_normalization_5[0][0]   \n",
            "__________________________________________________________________________________________________\n",
            "conv2d_8 (Conv2D)               (None, 64, 64, 256)  295168      activation_1[0][0]               \n",
            "__________________________________________________________________________________________________\n",
            "instance_normalization_6 (Insta (None, 64, 64, 256)  512         conv2d_8[0][0]                   \n",
            "__________________________________________________________________________________________________\n",
            "activation_2 (Activation)       (None, 64, 64, 256)  0           instance_normalization_6[0][0]   \n",
            "__________________________________________________________________________________________________\n",
            "conv2d_9 (Conv2D)               (None, 64, 64, 256)  590080      activation_2[0][0]               \n",
            "__________________________________________________________________________________________________\n",
            "instance_normalization_7 (Insta (None, 64, 64, 256)  512         conv2d_9[0][0]                   \n",
            "__________________________________________________________________________________________________\n",
            "activation_3 (Activation)       (None, 64, 64, 256)  0           instance_normalization_7[0][0]   \n",
            "__________________________________________________________________________________________________\n",
            "conv2d_10 (Conv2D)              (None, 64, 64, 256)  590080      activation_3[0][0]               \n",
            "__________________________________________________________________________________________________\n",
            "instance_normalization_8 (Insta (None, 64, 64, 256)  512         conv2d_10[0][0]                  \n",
            "__________________________________________________________________________________________________\n",
            "concatenate (Concatenate)       (None, 64, 64, 512)  0           instance_normalization_8[0][0]   \n",
            "                                                                 activation_2[0][0]               \n",
            "__________________________________________________________________________________________________\n",
            "conv2d_11 (Conv2D)              (None, 64, 64, 256)  1179904     concatenate[0][0]                \n",
            "__________________________________________________________________________________________________\n",
            "instance_normalization_9 (Insta (None, 64, 64, 256)  512         conv2d_11[0][0]                  \n",
            "__________________________________________________________________________________________________\n",
            "activation_4 (Activation)       (None, 64, 64, 256)  0           instance_normalization_9[0][0]   \n",
            "__________________________________________________________________________________________________\n",
            "conv2d_12 (Conv2D)              (None, 64, 64, 256)  590080      activation_4[0][0]               \n",
            "__________________________________________________________________________________________________\n",
            "instance_normalization_10 (Inst (None, 64, 64, 256)  512         conv2d_12[0][0]                  \n",
            "__________________________________________________________________________________________________\n",
            "concatenate_1 (Concatenate)     (None, 64, 64, 768)  0           instance_normalization_10[0][0]  \n",
            "                                                                 concatenate[0][0]                \n",
            "__________________________________________________________________________________________________\n",
            "conv2d_13 (Conv2D)              (None, 64, 64, 256)  1769728     concatenate_1[0][0]              \n",
            "__________________________________________________________________________________________________\n",
            "instance_normalization_11 (Inst (None, 64, 64, 256)  512         conv2d_13[0][0]                  \n",
            "__________________________________________________________________________________________________\n",
            "activation_5 (Activation)       (None, 64, 64, 256)  0           instance_normalization_11[0][0]  \n",
            "__________________________________________________________________________________________________\n",
            "conv2d_14 (Conv2D)              (None, 64, 64, 256)  590080      activation_5[0][0]               \n",
            "__________________________________________________________________________________________________\n",
            "instance_normalization_12 (Inst (None, 64, 64, 256)  512         conv2d_14[0][0]                  \n",
            "__________________________________________________________________________________________________\n",
            "concatenate_2 (Concatenate)     (None, 64, 64, 1024) 0           instance_normalization_12[0][0]  \n",
            "                                                                 concatenate_1[0][0]              \n",
            "__________________________________________________________________________________________________\n",
            "conv2d_15 (Conv2D)              (None, 64, 64, 256)  2359552     concatenate_2[0][0]              \n",
            "__________________________________________________________________________________________________\n",
            "instance_normalization_13 (Inst (None, 64, 64, 256)  512         conv2d_15[0][0]                  \n",
            "__________________________________________________________________________________________________\n",
            "activation_6 (Activation)       (None, 64, 64, 256)  0           instance_normalization_13[0][0]  \n",
            "__________________________________________________________________________________________________\n",
            "conv2d_16 (Conv2D)              (None, 64, 64, 256)  590080      activation_6[0][0]               \n",
            "__________________________________________________________________________________________________\n",
            "instance_normalization_14 (Inst (None, 64, 64, 256)  512         conv2d_16[0][0]                  \n",
            "__________________________________________________________________________________________________\n",
            "concatenate_3 (Concatenate)     (None, 64, 64, 1280) 0           instance_normalization_14[0][0]  \n",
            "                                                                 concatenate_2[0][0]              \n",
            "__________________________________________________________________________________________________\n",
            "conv2d_17 (Conv2D)              (None, 64, 64, 256)  2949376     concatenate_3[0][0]              \n",
            "__________________________________________________________________________________________________\n",
            "instance_normalization_15 (Inst (None, 64, 64, 256)  512         conv2d_17[0][0]                  \n",
            "__________________________________________________________________________________________________\n",
            "activation_7 (Activation)       (None, 64, 64, 256)  0           instance_normalization_15[0][0]  \n",
            "__________________________________________________________________________________________________\n",
            "conv2d_18 (Conv2D)              (None, 64, 64, 256)  590080      activation_7[0][0]               \n",
            "__________________________________________________________________________________________________\n",
            "instance_normalization_16 (Inst (None, 64, 64, 256)  512         conv2d_18[0][0]                  \n",
            "__________________________________________________________________________________________________\n",
            "concatenate_4 (Concatenate)     (None, 64, 64, 1536) 0           instance_normalization_16[0][0]  \n",
            "                                                                 concatenate_3[0][0]              \n",
            "__________________________________________________________________________________________________\n",
            "conv2d_19 (Conv2D)              (None, 64, 64, 256)  3539200     concatenate_4[0][0]              \n",
            "__________________________________________________________________________________________________\n",
            "instance_normalization_17 (Inst (None, 64, 64, 256)  512         conv2d_19[0][0]                  \n",
            "__________________________________________________________________________________________________\n",
            "activation_8 (Activation)       (None, 64, 64, 256)  0           instance_normalization_17[0][0]  \n",
            "__________________________________________________________________________________________________\n",
            "conv2d_20 (Conv2D)              (None, 64, 64, 256)  590080      activation_8[0][0]               \n",
            "__________________________________________________________________________________________________\n",
            "instance_normalization_18 (Inst (None, 64, 64, 256)  512         conv2d_20[0][0]                  \n",
            "__________________________________________________________________________________________________\n",
            "concatenate_5 (Concatenate)     (None, 64, 64, 1792) 0           instance_normalization_18[0][0]  \n",
            "                                                                 concatenate_4[0][0]              \n",
            "__________________________________________________________________________________________________\n",
            "conv2d_21 (Conv2D)              (None, 64, 64, 256)  4129024     concatenate_5[0][0]              \n",
            "__________________________________________________________________________________________________\n",
            "instance_normalization_19 (Inst (None, 64, 64, 256)  512         conv2d_21[0][0]                  \n",
            "__________________________________________________________________________________________________\n",
            "activation_9 (Activation)       (None, 64, 64, 256)  0           instance_normalization_19[0][0]  \n",
            "__________________________________________________________________________________________________\n",
            "conv2d_22 (Conv2D)              (None, 64, 64, 256)  590080      activation_9[0][0]               \n",
            "__________________________________________________________________________________________________\n",
            "instance_normalization_20 (Inst (None, 64, 64, 256)  512         conv2d_22[0][0]                  \n",
            "__________________________________________________________________________________________________\n",
            "concatenate_6 (Concatenate)     (None, 64, 64, 2048) 0           instance_normalization_20[0][0]  \n",
            "                                                                 concatenate_5[0][0]              \n",
            "__________________________________________________________________________________________________\n",
            "conv2d_23 (Conv2D)              (None, 64, 64, 256)  4718848     concatenate_6[0][0]              \n",
            "__________________________________________________________________________________________________\n",
            "instance_normalization_21 (Inst (None, 64, 64, 256)  512         conv2d_23[0][0]                  \n",
            "__________________________________________________________________________________________________\n",
            "activation_10 (Activation)      (None, 64, 64, 256)  0           instance_normalization_21[0][0]  \n",
            "__________________________________________________________________________________________________\n",
            "conv2d_24 (Conv2D)              (None, 64, 64, 256)  590080      activation_10[0][0]              \n",
            "__________________________________________________________________________________________________\n",
            "instance_normalization_22 (Inst (None, 64, 64, 256)  512         conv2d_24[0][0]                  \n",
            "__________________________________________________________________________________________________\n",
            "concatenate_7 (Concatenate)     (None, 64, 64, 2304) 0           instance_normalization_22[0][0]  \n",
            "                                                                 concatenate_6[0][0]              \n",
            "__________________________________________________________________________________________________\n",
            "conv2d_25 (Conv2D)              (None, 64, 64, 256)  5308672     concatenate_7[0][0]              \n",
            "__________________________________________________________________________________________________\n",
            "instance_normalization_23 (Inst (None, 64, 64, 256)  512         conv2d_25[0][0]                  \n",
            "__________________________________________________________________________________________________\n",
            "activation_11 (Activation)      (None, 64, 64, 256)  0           instance_normalization_23[0][0]  \n",
            "__________________________________________________________________________________________________\n",
            "conv2d_26 (Conv2D)              (None, 64, 64, 256)  590080      activation_11[0][0]              \n",
            "__________________________________________________________________________________________________\n",
            "instance_normalization_24 (Inst (None, 64, 64, 256)  512         conv2d_26[0][0]                  \n",
            "__________________________________________________________________________________________________\n",
            "concatenate_8 (Concatenate)     (None, 64, 64, 2560) 0           instance_normalization_24[0][0]  \n",
            "                                                                 concatenate_7[0][0]              \n",
            "__________________________________________________________________________________________________\n",
            "conv2d_transpose (Conv2DTranspo (None, 128, 128, 128 2949248     concatenate_8[0][0]              \n",
            "__________________________________________________________________________________________________\n",
            "instance_normalization_25 (Inst (None, 128, 128, 128 256         conv2d_transpose[0][0]           \n",
            "__________________________________________________________________________________________________\n",
            "activation_12 (Activation)      (None, 128, 128, 128 0           instance_normalization_25[0][0]  \n",
            "__________________________________________________________________________________________________\n",
            "conv2d_transpose_1 (Conv2DTrans (None, 256, 256, 256 295168      activation_12[0][0]              \n",
            "__________________________________________________________________________________________________\n",
            "instance_normalization_26 (Inst (None, 256, 256, 256 512         conv2d_transpose_1[0][0]         \n",
            "__________________________________________________________________________________________________\n",
            "activation_13 (Activation)      (None, 256, 256, 256 0           instance_normalization_26[0][0]  \n",
            "__________________________________________________________________________________________________\n",
            "conv2d_27 (Conv2D)              (None, 256, 256, 3)  37635       activation_13[0][0]              \n",
            "__________________________________________________________________________________________________\n",
            "instance_normalization_27 (Inst (None, 256, 256, 3)  6           conv2d_27[0][0]                  \n",
            "__________________________________________________________________________________________________\n",
            "activation_14 (Activation)      (None, 256, 256, 3)  0           instance_normalization_27[0][0]  \n",
            "==================================================================================================\n",
            "Total params: 35,526,537\n",
            "Trainable params: 35,526,537\n",
            "Non-trainable params: 0\n",
            "__________________________________________________________________________________________________\n"
          ]
        }
      ]
    },
    {
      "cell_type": "code",
      "metadata": {
        "id": "uOKztmw6ztQg"
      },
      "source": [
        "# Implementing composite models and losses\n",
        "# we will have 4 losses\n",
        "# 1) adversial loss - the normal gan loss\n",
        "# 2) Identity loss - passing and imageA to generatorA should just return imageA\n",
        "# 3) forward cycle loss - output of gen1 to gen2 is provided and gen2 output is used to calc loss\n",
        "# 4) backward cycle loss - output of gen2 to gen1 and gen1 output is used to calc loss"
      ],
      "execution_count": null,
      "outputs": []
    },
    {
      "cell_type": "code",
      "metadata": {
        "id": "1FbF9G4KztTe"
      },
      "source": [
        "# define a composite model for updating the generator model via adversial and cycle loss\n",
        "def define_composite_model(g_model_1,d_model_1,g_model_2,image_shape):\n",
        "  #mark the current generator model as trainable\n",
        "  g_model_1.trainable = True\n",
        "\n",
        "  #mark the discriminator model as non trainable\n",
        "  d_model_1.trainable = False\n",
        "\n",
        "  #mark the other generator model as non trainable\n",
        "  g_model_2.trainable = False\n",
        "\n",
        "  #discriminator loss - Input the output of generator model to it\n",
        "  input_gen = Input(image_shape)\n",
        "  gen1_output = g_model_1(input_gen)\n",
        "  output_d = d_model_1(gen1_output)\n",
        "\n",
        "  #Identity loss\n",
        "  input_id = Input(image_shape)\n",
        "  output_id = g_model_1(input_id)\n",
        "\n",
        "  # forward cycle loss\n",
        "  output_f = g_model_2(gen1_output)\n",
        "\n",
        "  # backward cycle loss\n",
        "  gen2_output = g_model_2(input_id)\n",
        "  output_b = g_model_1(gen2_output)\n",
        "\n",
        "  #define model graoh\n",
        "  model = Model([input_gen,input_id],[output_d,output_id,output_f,output_b])\n",
        "  #define optimizer \n",
        "  opt = Adam(lr=0.002,beta_1=0.05)\n",
        "  #compile the model\n",
        "  model.compile(loss=['mse','mae','mae','mae'],loss_weights=[1,5,10,10],optimizer=opt)\n",
        "\n",
        "  return model"
      ],
      "execution_count": null,
      "outputs": []
    },
    {
      "cell_type": "code",
      "metadata": {
        "id": "OCSg--5ZztWS"
      },
      "source": [
        "#Updating the model weights"
      ],
      "execution_count": null,
      "outputs": []
    },
    {
      "cell_type": "code",
      "metadata": {
        "id": "XOEbi2LXvbCM"
      },
      "source": [
        "#generated random images from the dataset\n",
        "def generate_real_samples(dataset,n_samples,patch_shape):\n",
        "  ix = randint(0,len(dataset),n_samples)\n",
        "  #retrieve random images\n",
        "  X = dataset[ix]\n",
        "  #generate real class labels\n",
        "  y = ones((n_samples,patch_shape,patch_shape,1))\n",
        "  return X,y"
      ],
      "execution_count": null,
      "outputs": []
    },
    {
      "cell_type": "code",
      "metadata": {
        "id": "hmfG3grZLViT"
      },
      "source": [
        "#generate fake samples\n",
        "def generate_fake_samples(g_model,dataset,patch_shape):\n",
        "  #generate images\n",
        "  X = g_model.predict(dataset)\n",
        "  #generate fake labels\n",
        "  y = zeros((len(X),patch_shape,patch_shape,1))\n",
        "  return X,y"
      ],
      "execution_count": null,
      "outputs": []
    },
    {
      "cell_type": "code",
      "metadata": {
        "id": "fr8f57-CLVk3"
      },
      "source": [
        "# The paper describes using a pool of previously generated images from which examples are randomly selected\n",
        "# rather that using the images produced by the latest generator. "
      ],
      "execution_count": null,
      "outputs": []
    },
    {
      "cell_type": "code",
      "metadata": {
        "id": "6GSuyu8FLVnY"
      },
      "source": [
        "#update image pool for fake images\n",
        "def update_image_pool(pool,images,max_size=50):\n",
        "  selected = list()\n",
        "  for img in images:\n",
        "    if len(pool) < max_size:\n",
        "      pool.append(img)\n",
        "      selected.append(img)\n",
        "    elif random() < 0.5:\n",
        "      selected.append(img)\n",
        "    else:\n",
        "      #replace existing image and use replaced image\n",
        "      ix = randint(0,len(pool))\n",
        "      selected.append(pool[ix])\n",
        "      pool[ix] = img\n",
        "  \n",
        "  return asarray(selected)"
      ],
      "execution_count": null,
      "outputs": []
    },
    {
      "cell_type": "code",
      "metadata": {
        "id": "KK6jKNHzWG19"
      },
      "source": [
        "from os import listdir\n",
        "from numpy import vstack,asarray\n",
        "from keras.preprocessing.image import img_to_array,load_img\n",
        "from numpy import savez_compressed"
      ],
      "execution_count": null,
      "outputs": []
    },
    {
      "cell_type": "code",
      "metadata": {
        "id": "g0wxRX7DLVqb"
      },
      "source": [
        "# load all images in a directory into memory\n",
        "def load_images(path,size=(256,256,3)):\n",
        "  data_list = list()\n",
        "  for filename in listdir(path):\n",
        "    #Load and resize the image\n",
        "    pixels = load_img(path+filename,target_size=size)\n",
        "    #convert to numpy array\n",
        "    pixels = img_to_array(pixels)\n",
        "\n",
        "    #store\n",
        "    data_list.append(pixels)\n",
        "  \n",
        "  return asarray(data_list)\n"
      ],
      "execution_count": null,
      "outputs": []
    },
    {
      "cell_type": "code",
      "metadata": {
        "colab": {
          "base_uri": "https://localhost:8080/"
        },
        "id": "Nejuj7h5WGH_",
        "outputId": "b2e182b0-fc37-466a-e462-d21cdfb22351"
      },
      "source": [
        "path = '/content/drive/MyDrive/cycleGanData/'\n",
        "\n",
        "#load apple data\n",
        "trainDataApple = load_images(path + 'trainA/')\n",
        "testDataApple = load_images(path + 'testA/')\n",
        "dataA = vstack((trainDataApple,testDataApple))\n",
        "print('Loaded dataA: ',dataA.shape)\n",
        "\n",
        "\n",
        "#load orange data\n",
        "trainDataOrange = load_images(path + 'trainB/')\n",
        "testDataOrange = load_images(path + 'testB/')\n",
        "dataB = vstack((trainDataOrange,testDataOrange))\n",
        "print('Loaded dataB: ',dataB.shape)\n",
        "\n",
        "\n",
        "filename = 'apple2Orange.npz'\n",
        "savez_compressed(filename,dataA,dataB)\n",
        "print('Saved dataset',filename)"
      ],
      "execution_count": null,
      "outputs": [
        {
          "name": "stdout",
          "output_type": "stream",
          "text": [
            "Loaded dataA:  (1261, 256, 256, 3)\n",
            "Loaded dataB:  (1267, 256, 256, 3)\n",
            "Saved dataset apple2Orange.npz\n"
          ]
        }
      ]
    },
    {
      "cell_type": "code",
      "metadata": {
        "colab": {
          "base_uri": "https://localhost:8080/",
          "height": 282
        },
        "id": "8z_yfoO9WGXd",
        "outputId": "3ca168db-027e-4090-970b-f1c580a9beca"
      },
      "source": [
        "from numpy import load\n",
        "import matplotlib.pyplot as plt\n",
        "\n",
        "data = load('/content/drive/MyDrive/apple2Orange.npz')\n",
        "dataA, dataB = data['arr_0'],data['arr_1']\n",
        "print('Loaded: ',dataA.shape,dataB.shape)\n",
        "n_samples = 3\n",
        "\n",
        "#plot apple images\n",
        "for i in range(n_samples):\n",
        "  plt.axis('off')\n",
        "  plt.subplot(2,n_samples,i+1)\n",
        "  plt.imshow(dataA[i].astype('uint8'))\n",
        "\n",
        "#plot orange images\n",
        "for i in range(n_samples):\n",
        "  plt.axis('off')\n",
        "  plt.subplot(2,n_samples,1+n_samples+i)\n",
        "  plt.imshow(dataB[i].astype('uint8'))\n",
        "\n",
        "plt.show()"
      ],
      "execution_count": null,
      "outputs": [
        {
          "name": "stdout",
          "output_type": "stream",
          "text": [
            "Loaded:  (1261, 256, 256, 3) (1267, 256, 256, 3)\n"
          ]
        },
        {
          "data": {
            "image/png": "[encoded data removed]",
            "text/plain": [
              "<Figure size 432x288 with 6 Axes>"
            ]
          },
          "metadata": {
            "tags": []
          },
          "output_type": "display_data"
        }
      ]
    },
    {
      "cell_type": "code",
      "metadata": {
        "id": "S1FvVtwAoFVT"
      },
      "source": [
        "def load_real_samples(filename):\n",
        "  #load the dataset\n",
        "  data = load(filename)\n",
        "  #unpack the data\n",
        "  X1,X2 = data['arr_0'],data['arr_1']\n",
        "  #scale from [0,255] to [-1,1]\n",
        "  X1 = (X1-127.5)/(127.5)\n",
        "  X2 = (X2-127.5)/(127.5)\n",
        "  return [X1,X2]"
      ],
      "execution_count": null,
      "outputs": []
    },
    {
      "cell_type": "code",
      "metadata": {
        "id": "Xz3z795AoFYe"
      },
      "source": [
        "# As the generator and the discriminator model do not converge\n",
        "# we need to find an equilibrium btw them\n",
        "\n",
        "def save_model(step,g_model_AtoB,g_model_BtoA):\n",
        "  #save the first generator model\n",
        "  filename1 = 'g_model_AtoB%06d.h5' % (step+1)\n",
        "  g_model_AtoB.save(filename1)\n",
        "\n",
        "  #save the 2nd generator model\n",
        "  filename2 = 'g_model_BtoA%06d.h5' % (step+1)\n",
        "  g_model_AtoB.save(filename2)  "
      ],
      "execution_count": null,
      "outputs": []
    },
    {
      "cell_type": "code",
      "metadata": {
        "id": "Ys8RpJOaoFbF"
      },
      "source": [
        "#generate samples and save as a plot and save the model\n",
        "def summarize_performance(step,g_model,trainX,name,n_samples=5):\n",
        "  #select a sample of input images\n",
        "  X_in,_ = generate_real_samples(trainX,n_samples,0)\n",
        "  #generate translated images\n",
        "  X_out,_ = generate_fake_samples(g_model,X_in,0)\n",
        "\n",
        "  X_in = (X_in+1) / 2.0\n",
        "  X_out = (X_out+1) / 2.0\n",
        "\n",
        "  # plot real images\n",
        "  for i in range(n_samples):\n",
        "    plt.subplot(2,n_samples,i+1)\n",
        "    plt.axis('off')\n",
        "    plt.imshow(X_in[i])\n",
        "\n",
        "  #plot translated images \n",
        "  for i in range(n_samples):\n",
        "    plt.subplot(2,n_samples,i+1+n_samples)\n",
        "    plt.axis('off')\n",
        "    plt.imshow(X_out[i])\n",
        "  \n",
        "  #save plot \n",
        "  filename = '%s_generated_plot%06d.png' %(name,(step+1))\n",
        "  plt.savefig(filename)\n",
        "  plt.close()"
      ],
      "execution_count": null,
      "outputs": []
    },
    {
      "cell_type": "code",
      "metadata": {
        "id": "pgFELO43oFd4"
      },
      "source": [
        "#Train cycleGan models\n",
        "def train_gan(g_model_AtoB,g_model_BtoA,d_model_A,d_model_B,c_model_AtoB,c_model_BtoA,dataset):\n",
        "  #properties for training\n",
        "  n_epochs,n_batch = 100,1\n",
        "  # determine the output shape of the discriminator\n",
        "  n_patch = d_model_A.output_shape[1]\n",
        "  #unpacking the dataset\n",
        "  trainA,trainB = dataset\n",
        "\n",
        "  #pool for fake images \n",
        "  poolA,poolB = list(),list()\n",
        "  #batches per epoch\n",
        "  batch_per_epoch = int(len(trainA)/n_batch)\n",
        "  #Total no of steps\n",
        "  n_steps = batch_per_epoch*n_epochs\n",
        "\n",
        "  #manually enumerate epochs\n",
        "  for i in range(n_steps):\n",
        "    print('step',i)\n",
        "    #select a batch of real samples\n",
        "    X_realA,y_realA = generate_real_samples(trainA,n_batch,n_patch)\n",
        "    X_realB,y_realB = generate_real_samples(trainB,n_batch,n_patch)\n",
        "\n",
        "    #generate fake samples\n",
        "    X_fakeA,y_fakeA = generate_fake_samples(g_model_BtoA,X_realA,n_patch)\n",
        "    X_fakeB,y_fakeB = generate_fake_samples(g_model_AtoB,X_realB,n_patch)\n",
        "\n",
        "    #update fake pool\n",
        "    X_fakeA = update_image_pool(poolA,X_fakeA)\n",
        "    X_fakeB = update_image_pool(poolB,X_fakeB)\n",
        "\n",
        "    #update the generatorBtoA via the adversial and cycle loss\n",
        "    g_loss2,_,_,_,_ = c_model_BtoA.train_on_batch([X_realB,X_realA],[y_realA,X_realA,X_realB,X_realA]) \n",
        "\n",
        "    #update discriminator A \n",
        "    daLoss1 = d_model_A.train_on_batch(X_realA,y_realA)\n",
        "    daLoss2 = d_model_A.train_on_batch(X_fakeA,y_fakeA)\n",
        "\n",
        "    #update the generatorBtoA via the adversial and cycle loss\n",
        "    g_loss1,_,_,_,_ = c_model_AtoB.train_on_batch([X_realA,X_realB],[y_realB,X_realB,X_realA,X_realB]) \n",
        "\n",
        "    #update discriminator A \n",
        "    dbLoss1 = d_model_B.train_on_batch(X_realB,y_realB)\n",
        "    dbLoss2 = d_model_B.train_on_batch(X_fakeB,y_fakeB)\n",
        "\n",
        "\n",
        "    #evaluate the model performance\n",
        "    if (i+1) % (batch_per_epoch) == 0:\n",
        "      #plot A->B translation\n",
        "      summarize_performance(i,g_model_AtoB,trainA,'AtoB')\n",
        "      #plot B->A translation\n",
        "      summarize_performance(i,g_model_BtoA,trainB,'BtoA')\n",
        "\n",
        "    if (i+1) % (batch_per_epoch) == 0:\n",
        "      save_model(i,g_model_AtoB,g_model_BtoA)\n"
      ],
      "execution_count": null,
      "outputs": []
    },
    {
      "cell_type": "code",
      "metadata": {
        "colab": {
          "base_uri": "https://localhost:8080/"
        },
        "id": "E1iW8kJPoFg3",
        "outputId": "9864c534-d047-4aa6-ec0a-185052735bf7"
      },
      "source": [
        "dataset = load_real_samples('/content/drive/MyDrive/apple2Orange.npz')\n",
        "print('Loaded',dataset[0].shape,dataset[1].shape)\n",
        "\n"
      ],
      "execution_count": null,
      "outputs": [
        {
          "name": "stdout",
          "output_type": "stream",
          "text": [
            "Loaded (1261, 256, 256, 3) (1267, 256, 256, 3)\n"
          ]
        }
      ]
    },
    {
      "cell_type": "code",
      "metadata": {
        "colab": {
          "base_uri": "https://localhost:8080/"
        },
        "id": "x5AoGfi5oFjc",
        "outputId": "7e71825a-2a59-4822-bfef-1a64c1d9a040"
      },
      "source": [
        "#define input shape based on the loaded dataset\n",
        "image_shape = dataset[0].shape[1:]\n",
        "#generator : A->B\n",
        "gen_AtoB = define_generator()\n",
        "#generator : B->A\n",
        "gen_BtoA = define_generator()\n",
        "#discriminator : A->[real/fake]\n",
        "d_modelA = define_discriminator(image_shape)\n",
        "#discriminator : B->[real/fake]\n",
        "d_modelB = define_discriminator(image_shape)\n",
        "#composite : A -> B -> [real/fake,A]\n",
        "c_model_AtoB = define_composite_model(gen_AtoB,d_modelB,gen_BtoA,image_shape)\n",
        "# composite : B-> A -> [real/fake,B]\n",
        "c_model_BtoA = define_composite_model(gen_BtoA,d_modelB,gen_AtoB,image_shape)"
      ],
      "execution_count": null,
      "outputs": [
        {
          "name": "stderr",
          "output_type": "stream",
          "text": [
            "/usr/local/lib/python3.7/dist-packages/tensorflow/python/keras/optimizer_v2/optimizer_v2.py:375: UserWarning: The `lr` argument is deprecated, use `learning_rate` instead.\n",
            "  \"The `lr` argument is deprecated, use `learning_rate` instead.\")\n"
          ]
        }
      ]
    },
    {
      "cell_type": "code",
      "metadata": {
        "colab": {
          "base_uri": "https://localhost:8080/",
          "height": 1000
        },
        "id": "CCqoI6_ToFmm",
        "outputId": "08fa437e-4c06-424c-ed90-1aceec6b1274"
      },
      "source": [
        "#train models\n",
        "train_gan(gen_AtoB,gen_BtoA,d_modelA,d_modelB,c_model_AtoB,c_model_BtoA,dataset)"
      ],
      "execution_count": null,
      "outputs": [
        {
          "name": "stdout",
          "output_type": "stream",
          "text": [
            "step 0\n",
            "step 1\n",
            "step 2\n",
            "step 3\n",
            "step 4\n",
            "step 5\n",
            "step 6\n",
            "step 7\n",
            "step 8\n",
            "step 9\n",
            "step 10\n",
            "step 11\n",
            "step 12\n",
            "step 13\n",
            "step 14\n",
            "step 15\n",
            "step 16\n",
            "step 17\n",
            "step 18\n",
            "step 19\n",
            "step 20\n",
            "step 21\n",
            "step 22\n",
            "step 23\n",
            "step 24\n",
            "step 25\n",
            "step 26\n",
            "step 27\n",
            "step 28\n",
            "step 29\n",
            "step 30\n",
            "step 31\n",
            "step 32\n",
            "step 33\n",
            "step 34\n",
            "step 35\n",
            "step 36\n",
            "step 37\n",
            "step 38\n",
            "step 39\n",
            "step 40\n",
            "step 41\n",
            "step 42\n",
            "step 43\n",
            "step 44\n",
            "step 45\n",
            "step 46\n",
            "step 47\n",
            "step 48\n",
            "step 49\n",
            "step 50\n",
            "step 51\n",
            "step 52\n",
            "step 53\n",
            "step 54\n",
            "step 55\n",
            "step 56\n",
            "step 57\n",
            "step 58\n",
            "step 59\n",
            "step 60\n",
            "step 61\n",
            "step 62\n",
            "step 63\n",
            "step 64\n",
            "step 65\n",
            "step 66\n",
            "step 67\n",
            "step 68\n",
            "step 69\n",
            "step 70\n",
            "step 71\n",
            "step 72\n",
            "step 73\n",
            "step 74\n",
            "step 75\n",
            "step 76\n",
            "step 77\n",
            "step 78\n",
            "step 79\n",
            "step 80\n",
            "step 81\n",
            "step 82\n",
            "step 83\n",
            "step 84\n",
            "step 85\n",
            "step 86\n",
            "step 87\n",
            "step 88\n",
            "step 89\n",
            "step 90\n",
            "step 91\n",
            "step 92\n",
            "step 93\n",
            "step 94\n",
            "step 95\n",
            "step 96\n"
          ]
        },
        {
          "ename": "KeyboardInterrupt",
          "evalue": "ignored",
          "output_type": "error",
          "traceback": [
            "\u001b[0;31m---------------------------------------------------------------------------\u001b[0m",
            "\u001b[0;31mKeyboardInterrupt\u001b[0m                         Traceback (most recent call last)",
            "\u001b[0;32m<ipython-input-25-2d70f4df36ef>\u001b[0m in \u001b[0;36m<module>\u001b[0;34m()\u001b[0m\n\u001b[1;32m      1\u001b[0m \u001b[0;31m#train models\u001b[0m\u001b[0;34m\u001b[0m\u001b[0;34m\u001b[0m\u001b[0;34m\u001b[0m\u001b[0m\n\u001b[0;32m----> 2\u001b[0;31m \u001b[0mtrain_gan\u001b[0m\u001b[0;34m(\u001b[0m\u001b[0mgen_AtoB\u001b[0m\u001b[0;34m,\u001b[0m\u001b[0mgen_BtoA\u001b[0m\u001b[0;34m,\u001b[0m\u001b[0md_modelA\u001b[0m\u001b[0;34m,\u001b[0m\u001b[0md_modelB\u001b[0m\u001b[0;34m,\u001b[0m\u001b[0mc_model_AtoB\u001b[0m\u001b[0;34m,\u001b[0m\u001b[0mc_model_BtoA\u001b[0m\u001b[0;34m,\u001b[0m\u001b[0mdataset\u001b[0m\u001b[0;34m)\u001b[0m\u001b[0;34m\u001b[0m\u001b[0;34m\u001b[0m\u001b[0m\n\u001b[0m",
            "\u001b[0;32m<ipython-input-21-84aea9ba64b9>\u001b[0m in \u001b[0;36mtrain_gan\u001b[0;34m(g_model_AtoB, g_model_BtoA, d_model_A, d_model_B, c_model_AtoB, c_model_BtoA, dataset)\u001b[0m\n\u001b[1;32m     31\u001b[0m \u001b[0;34m\u001b[0m\u001b[0m\n\u001b[1;32m     32\u001b[0m     \u001b[0;31m#update the generatorBtoA via the adversial and cycle loss\u001b[0m\u001b[0;34m\u001b[0m\u001b[0;34m\u001b[0m\u001b[0;34m\u001b[0m\u001b[0m\n\u001b[0;32m---> 33\u001b[0;31m     \u001b[0mg_loss2\u001b[0m\u001b[0;34m,\u001b[0m\u001b[0m_\u001b[0m\u001b[0;34m,\u001b[0m\u001b[0m_\u001b[0m\u001b[0;34m,\u001b[0m\u001b[0m_\u001b[0m\u001b[0;34m,\u001b[0m\u001b[0m_\u001b[0m \u001b[0;34m=\u001b[0m \u001b[0mc_model_BtoA\u001b[0m\u001b[0;34m.\u001b[0m\u001b[0mtrain_on_batch\u001b[0m\u001b[0;34m(\u001b[0m\u001b[0;34m[\u001b[0m\u001b[0mX_realB\u001b[0m\u001b[0;34m,\u001b[0m\u001b[0mX_realA\u001b[0m\u001b[0;34m]\u001b[0m\u001b[0;34m,\u001b[0m\u001b[0;34m[\u001b[0m\u001b[0my_realA\u001b[0m\u001b[0;34m,\u001b[0m\u001b[0mX_realA\u001b[0m\u001b[0;34m,\u001b[0m\u001b[0mX_realB\u001b[0m\u001b[0;34m,\u001b[0m\u001b[0mX_realA\u001b[0m\u001b[0;34m]\u001b[0m\u001b[0;34m)\u001b[0m\u001b[0;34m\u001b[0m\u001b[0;34m\u001b[0m\u001b[0m\n\u001b[0m\u001b[1;32m     34\u001b[0m \u001b[0;34m\u001b[0m\u001b[0m\n\u001b[1;32m     35\u001b[0m     \u001b[0;31m#update discriminator A\u001b[0m\u001b[0;34m\u001b[0m\u001b[0;34m\u001b[0m\u001b[0;34m\u001b[0m\u001b[0m\n",
            "\u001b[0;32m/usr/local/lib/python3.7/dist-packages/keras/engine/training.py\u001b[0m in \u001b[0;36mtrain_on_batch\u001b[0;34m(self, x, y, sample_weight, class_weight, reset_metrics, return_dict)\u001b[0m\n\u001b[1;32m   1801\u001b[0m \u001b[0;34m\u001b[0m\u001b[0m\n\u001b[1;32m   1802\u001b[0m     \u001b[0;32mif\u001b[0m \u001b[0mreset_metrics\u001b[0m\u001b[0;34m:\u001b[0m\u001b[0;34m\u001b[0m\u001b[0;34m\u001b[0m\u001b[0m\n\u001b[0;32m-> 1803\u001b[0;31m       \u001b[0mself\u001b[0m\u001b[0;34m.\u001b[0m\u001b[0mreset_metrics\u001b[0m\u001b[0;34m(\u001b[0m\u001b[0;34m)\u001b[0m\u001b[0;34m\u001b[0m\u001b[0;34m\u001b[0m\u001b[0m\n\u001b[0m\u001b[1;32m   1804\u001b[0m     \u001b[0mlogs\u001b[0m \u001b[0;34m=\u001b[0m \u001b[0mtf_utils\u001b[0m\u001b[0;34m.\u001b[0m\u001b[0msync_to_numpy_or_python_type\u001b[0m\u001b[0;34m(\u001b[0m\u001b[0mlogs\u001b[0m\u001b[0;34m)\u001b[0m\u001b[0;34m\u001b[0m\u001b[0;34m\u001b[0m\u001b[0m\n\u001b[1;32m   1805\u001b[0m     \u001b[0;32mif\u001b[0m \u001b[0mreturn_dict\u001b[0m\u001b[0;34m:\u001b[0m\u001b[0;34m\u001b[0m\u001b[0;34m\u001b[0m\u001b[0m\n",
            "\u001b[0;32m/usr/local/lib/python3.7/dist-packages/keras/engine/training.py\u001b[0m in \u001b[0;36mreset_metrics\u001b[0;34m(self)\u001b[0m\n\u001b[1;32m   1740\u001b[0m     \"\"\"\n\u001b[1;32m   1741\u001b[0m     \u001b[0;32mfor\u001b[0m \u001b[0mm\u001b[0m \u001b[0;32min\u001b[0m \u001b[0mself\u001b[0m\u001b[0;34m.\u001b[0m\u001b[0mmetrics\u001b[0m\u001b[0;34m:\u001b[0m\u001b[0;34m\u001b[0m\u001b[0;34m\u001b[0m\u001b[0m\n\u001b[0;32m-> 1742\u001b[0;31m       \u001b[0mm\u001b[0m\u001b[0;34m.\u001b[0m\u001b[0mreset_state\u001b[0m\u001b[0;34m(\u001b[0m\u001b[0;34m)\u001b[0m\u001b[0;34m\u001b[0m\u001b[0;34m\u001b[0m\u001b[0m\n\u001b[0m\u001b[1;32m   1743\u001b[0m \u001b[0;34m\u001b[0m\u001b[0m\n\u001b[1;32m   1744\u001b[0m   def train_on_batch(self,\n",
            "\u001b[0;32m/usr/local/lib/python3.7/dist-packages/keras/metrics.py\u001b[0m in \u001b[0;36mreset_state\u001b[0;34m(self)\u001b[0m\n\u001b[1;32m    236\u001b[0m       \u001b[0;32mreturn\u001b[0m \u001b[0mself\u001b[0m\u001b[0;34m.\u001b[0m\u001b[0mreset_states\u001b[0m\u001b[0;34m(\u001b[0m\u001b[0;34m)\u001b[0m\u001b[0;34m\u001b[0m\u001b[0;34m\u001b[0m\u001b[0m\n\u001b[1;32m    237\u001b[0m     \u001b[0;32melse\u001b[0m\u001b[0;34m:\u001b[0m\u001b[0;34m\u001b[0m\u001b[0;34m\u001b[0m\u001b[0m\n\u001b[0;32m--> 238\u001b[0;31m       \u001b[0mbackend\u001b[0m\u001b[0;34m.\u001b[0m\u001b[0mbatch_set_value\u001b[0m\u001b[0;34m(\u001b[0m\u001b[0;34m[\u001b[0m\u001b[0;34m(\u001b[0m\u001b[0mv\u001b[0m\u001b[0;34m,\u001b[0m \u001b[0;36m0\u001b[0m\u001b[0;34m)\u001b[0m \u001b[0;32mfor\u001b[0m \u001b[0mv\u001b[0m \u001b[0;32min\u001b[0m \u001b[0mself\u001b[0m\u001b[0;34m.\u001b[0m\u001b[0mvariables\u001b[0m\u001b[0;34m]\u001b[0m\u001b[0;34m)\u001b[0m\u001b[0;34m\u001b[0m\u001b[0;34m\u001b[0m\u001b[0m\n\u001b[0m\u001b[1;32m    239\u001b[0m \u001b[0;34m\u001b[0m\u001b[0m\n\u001b[1;32m    240\u001b[0m   \u001b[0;34m@\u001b[0m\u001b[0mabc\u001b[0m\u001b[0;34m.\u001b[0m\u001b[0mabstractmethod\u001b[0m\u001b[0;34m\u001b[0m\u001b[0;34m\u001b[0m\u001b[0m\n",
            "\u001b[0;32m/usr/local/lib/python3.7/dist-packages/tensorflow/python/util/dispatch.py\u001b[0m in \u001b[0;36mwrapper\u001b[0;34m(*args, **kwargs)\u001b[0m\n\u001b[1;32m    204\u001b[0m     \u001b[0;34m\"\"\"Call target, and fall back on dispatchers if there is a TypeError.\"\"\"\u001b[0m\u001b[0;34m\u001b[0m\u001b[0;34m\u001b[0m\u001b[0m\n\u001b[1;32m    205\u001b[0m     \u001b[0;32mtry\u001b[0m\u001b[0;34m:\u001b[0m\u001b[0;34m\u001b[0m\u001b[0;34m\u001b[0m\u001b[0m\n\u001b[0;32m--> 206\u001b[0;31m       \u001b[0;32mreturn\u001b[0m \u001b[0mtarget\u001b[0m\u001b[0;34m(\u001b[0m\u001b[0;34m*\u001b[0m\u001b[0margs\u001b[0m\u001b[0;34m,\u001b[0m \u001b[0;34m**\u001b[0m\u001b[0mkwargs\u001b[0m\u001b[0;34m)\u001b[0m\u001b[0;34m\u001b[0m\u001b[0;34m\u001b[0m\u001b[0m\n\u001b[0m\u001b[1;32m    207\u001b[0m     \u001b[0;32mexcept\u001b[0m \u001b[0;34m(\u001b[0m\u001b[0mTypeError\u001b[0m\u001b[0;34m,\u001b[0m \u001b[0mValueError\u001b[0m\u001b[0;34m)\u001b[0m\u001b[0;34m:\u001b[0m\u001b[0;34m\u001b[0m\u001b[0;34m\u001b[0m\u001b[0m\n\u001b[1;32m    208\u001b[0m       \u001b[0;31m# Note: convert_to_eager_tensor currently raises a ValueError, not a\u001b[0m\u001b[0;34m\u001b[0m\u001b[0;34m\u001b[0m\u001b[0;34m\u001b[0m\u001b[0m\n",
            "\u001b[0;32m/usr/local/lib/python3.7/dist-packages/keras/backend.py\u001b[0m in \u001b[0;36mbatch_set_value\u001b[0;34m(tuples)\u001b[0m\n\u001b[1;32m   3767\u001b[0m   \u001b[0;32mif\u001b[0m \u001b[0mtf\u001b[0m\u001b[0;34m.\u001b[0m\u001b[0mcompat\u001b[0m\u001b[0;34m.\u001b[0m\u001b[0mv1\u001b[0m\u001b[0;34m.\u001b[0m\u001b[0mexecuting_eagerly_outside_functions\u001b[0m\u001b[0;34m(\u001b[0m\u001b[0;34m)\u001b[0m\u001b[0;34m:\u001b[0m\u001b[0;34m\u001b[0m\u001b[0;34m\u001b[0m\u001b[0m\n\u001b[1;32m   3768\u001b[0m     \u001b[0;32mfor\u001b[0m \u001b[0mx\u001b[0m\u001b[0;34m,\u001b[0m \u001b[0mvalue\u001b[0m \u001b[0;32min\u001b[0m \u001b[0mtuples\u001b[0m\u001b[0;34m:\u001b[0m\u001b[0;34m\u001b[0m\u001b[0;34m\u001b[0m\u001b[0m\n\u001b[0;32m-> 3769\u001b[0;31m       \u001b[0mx\u001b[0m\u001b[0;34m.\u001b[0m\u001b[0massign\u001b[0m\u001b[0;34m(\u001b[0m\u001b[0mnp\u001b[0m\u001b[0;34m.\u001b[0m\u001b[0masarray\u001b[0m\u001b[0;34m(\u001b[0m\u001b[0mvalue\u001b[0m\u001b[0;34m,\u001b[0m \u001b[0mdtype\u001b[0m\u001b[0;34m=\u001b[0m\u001b[0mdtype_numpy\u001b[0m\u001b[0;34m(\u001b[0m\u001b[0mx\u001b[0m\u001b[0;34m)\u001b[0m\u001b[0;34m)\u001b[0m\u001b[0;34m)\u001b[0m\u001b[0;34m\u001b[0m\u001b[0;34m\u001b[0m\u001b[0m\n\u001b[0m\u001b[1;32m   3770\u001b[0m   \u001b[0;32melse\u001b[0m\u001b[0;34m:\u001b[0m\u001b[0;34m\u001b[0m\u001b[0;34m\u001b[0m\u001b[0m\n\u001b[1;32m   3771\u001b[0m     \u001b[0;32mwith\u001b[0m \u001b[0mget_graph\u001b[0m\u001b[0;34m(\u001b[0m\u001b[0;34m)\u001b[0m\u001b[0;34m.\u001b[0m\u001b[0mas_default\u001b[0m\u001b[0;34m(\u001b[0m\u001b[0;34m)\u001b[0m\u001b[0;34m:\u001b[0m\u001b[0;34m\u001b[0m\u001b[0;34m\u001b[0m\u001b[0m\n",
            "\u001b[0;32m/usr/local/lib/python3.7/dist-packages/tensorflow/python/ops/resource_variable_ops.py\u001b[0m in \u001b[0;36massign\u001b[0;34m(self, value, use_locking, name, read_value)\u001b[0m\n\u001b[1;32m    901\u001b[0m             (tensor_name, self._shape, value_tensor.shape))\n\u001b[1;32m    902\u001b[0m       assign_op = gen_resource_variable_ops.assign_variable_op(\n\u001b[0;32m--> 903\u001b[0;31m           self.handle, value_tensor, name=name)\n\u001b[0m\u001b[1;32m    904\u001b[0m       \u001b[0;32mif\u001b[0m \u001b[0mread_value\u001b[0m\u001b[0;34m:\u001b[0m\u001b[0;34m\u001b[0m\u001b[0;34m\u001b[0m\u001b[0m\n\u001b[1;32m    905\u001b[0m         \u001b[0;32mreturn\u001b[0m \u001b[0mself\u001b[0m\u001b[0;34m.\u001b[0m\u001b[0m_lazy_read\u001b[0m\u001b[0;34m(\u001b[0m\u001b[0massign_op\u001b[0m\u001b[0;34m)\u001b[0m\u001b[0;34m\u001b[0m\u001b[0;34m\u001b[0m\u001b[0m\n",
            "\u001b[0;32m/usr/local/lib/python3.7/dist-packages/tensorflow/python/ops/gen_resource_variable_ops.py\u001b[0m in \u001b[0;36massign_variable_op\u001b[0;34m(resource, value, name)\u001b[0m\n\u001b[1;32m    140\u001b[0m     \u001b[0;32mtry\u001b[0m\u001b[0;34m:\u001b[0m\u001b[0;34m\u001b[0m\u001b[0;34m\u001b[0m\u001b[0m\n\u001b[1;32m    141\u001b[0m       _result = pywrap_tfe.TFE_Py_FastPathExecute(\n\u001b[0;32m--> 142\u001b[0;31m         _ctx, \"AssignVariableOp\", name, resource, value)\n\u001b[0m\u001b[1;32m    143\u001b[0m       \u001b[0;32mreturn\u001b[0m \u001b[0m_result\u001b[0m\u001b[0;34m\u001b[0m\u001b[0;34m\u001b[0m\u001b[0m\n\u001b[1;32m    144\u001b[0m     \u001b[0;32mexcept\u001b[0m \u001b[0m_core\u001b[0m\u001b[0;34m.\u001b[0m\u001b[0m_NotOkStatusException\u001b[0m \u001b[0;32mas\u001b[0m \u001b[0me\u001b[0m\u001b[0;34m:\u001b[0m\u001b[0;34m\u001b[0m\u001b[0;34m\u001b[0m\u001b[0m\n",
            "\u001b[0;31mKeyboardInterrupt\u001b[0m: "
          ]
        }
      ]
    },
    {
      "cell_type": "code",
      "metadata": {
        "colab": {
          "base_uri": "https://localhost:8080/"
        },
        "id": "jhoU7i-1QjCT",
        "outputId": "8dc050ec-ad46-4b59-c838-43503b96f0df"
      },
      "source": [
        "random()"
      ],
      "execution_count": null,
      "outputs": [
        {
          "data": {
            "text/plain": [
              "0.24357519137861272"
            ]
          },
          "execution_count": 37,
          "metadata": {
            "tags": []
          },
          "output_type": "execute_result"
        }
      ]
    },
    {
      "cell_type": "code",
      "metadata": {
        "id": "GGWgVKsOQjST"
      },
      "source": [
        ""
      ],
      "execution_count": null,
      "outputs": []
    },
    {
      "cell_type": "code",
      "metadata": {
        "id": "9zRIwdUEQjVw"
      },
      "source": [
        ""
      ],
      "execution_count": null,
      "outputs": []
    },
    {
      "cell_type": "code",
      "metadata": {
        "id": "ANNWaNdvQjfe"
      },
      "source": [
        ""
      ],
      "execution_count": null,
      "outputs": []
    }
  ]
}